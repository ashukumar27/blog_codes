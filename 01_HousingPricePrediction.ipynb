{
 "cells": [
  {
   "cell_type": "markdown",
   "metadata": {},
   "source": [
    "# Housing price Prediction\n",
    "Data Source: https://www.kaggle.com/c/house-prices-advanced-regression-techniques"
   ]
  },
  {
   "cell_type": "code",
   "execution_count": null,
   "metadata": {},
   "outputs": [],
   "source": [
    "data_folder = \"../data/HousingPrediction/\""
   ]
  },
  {
   "cell_type": "code",
   "execution_count": 346,
   "metadata": {},
   "outputs": [],
   "source": [
    "#Import Libraries\n",
    "import pandas as pd\n",
    "import numpy as np\n",
    "from sklearn.model_selection import train_test_split\n",
    "from sklearn.preprocessing import MinMaxScaler\n",
    "from sklearn.linear_model import Lasso\n",
    "from sklearn import metrics"
   ]
  },
  {
   "cell_type": "markdown",
   "metadata": {},
   "source": [
    "#### Read Data"
   ]
  },
  {
   "cell_type": "code",
   "execution_count": 347,
   "metadata": {},
   "outputs": [],
   "source": [
    "train = pd.read_csv(data_folder+'train.csv')\n",
    "test = pd.read_csv(data_folder+'test.csv')"
   ]
  },
  {
   "cell_type": "markdown",
   "metadata": {},
   "source": [
    "#### 'SalePrice' is the target column"
   ]
  },
  {
   "cell_type": "code",
   "execution_count": 300,
   "metadata": {},
   "outputs": [],
   "source": [
    "#separating SalePrice in Y\n",
    "y = train['SalePrice']\n",
    "train.drop(['SalePrice'], axis=1, inplace=True)"
   ]
  },
  {
   "cell_type": "code",
   "execution_count": 301,
   "metadata": {},
   "outputs": [],
   "source": [
    "#Combine train and test data\n",
    "data = pd.concat([train,test], axis=0)"
   ]
  },
  {
   "cell_type": "code",
   "execution_count": 302,
   "metadata": {},
   "outputs": [],
   "source": [
    "## Features to keep\n",
    "keep = ['MSSubClass', 'MSZoning', 'Neighborhood',\n",
    "            'OverallQual', 'OverallCond', 'YearRemodAdd',\n",
    "            'RoofStyle', 'MasVnrType', 'BsmtQual', 'BsmtExposure',\n",
    "            'HeatingQC', 'CentralAir', '1stFlrSF', 'GrLivArea',\n",
    "            'BsmtFullBath', 'KitchenQual', 'Fireplaces', 'FireplaceQu',\n",
    "            'GarageType', 'GarageFinish', 'GarageCars', 'PavedDrive',\n",
    "            'LotFrontage','YrSold']"
   ]
  },
  {
   "cell_type": "code",
   "execution_count": 303,
   "metadata": {},
   "outputs": [],
   "source": [
    "data = data[keep].copy()"
   ]
  },
  {
   "cell_type": "markdown",
   "metadata": {},
   "source": [
    "#### Numerical Imputer"
   ]
  },
  {
   "cell_type": "code",
   "execution_count": 305,
   "metadata": {},
   "outputs": [],
   "source": [
    "#Imputing Missing values for following cols: ['LotFrontage']\n",
    "num_features = ['LotFrontage']\n",
    "\n",
    "for var in num_features:\n",
    "    data[var].fillna(data[var].mode()[0], inplace=True)\n",
    "    \n",
    "    "
   ]
  },
  {
   "cell_type": "markdown",
   "metadata": {},
   "source": [
    "#### Categorical Imputer"
   ]
  },
  {
   "cell_type": "code",
   "execution_count": 307,
   "metadata": {},
   "outputs": [],
   "source": [
    "cat_features = ['MasVnrType', 'BsmtQual', 'BsmtExposure','FireplaceQu', \n",
    "                'GarageCars','GarageType', 'GarageFinish','MSZoning','BsmtFullBath',\n",
    "                'KitchenQual']"
   ]
  },
  {
   "cell_type": "code",
   "execution_count": 308,
   "metadata": {},
   "outputs": [
    {
     "data": {
      "text/plain": [
       "MasVnrType        24\n",
       "BsmtQual          81\n",
       "BsmtExposure      82\n",
       "FireplaceQu     1420\n",
       "GarageCars         1\n",
       "GarageType       157\n",
       "GarageFinish     159\n",
       "MSZoning           4\n",
       "BsmtFullBath       2\n",
       "KitchenQual        1\n",
       "dtype: int64"
      ]
     },
     "execution_count": 308,
     "metadata": {},
     "output_type": "execute_result"
    }
   ],
   "source": [
    "#check missing values\n",
    "data[cat_features].isnull().sum()"
   ]
  },
  {
   "cell_type": "code",
   "execution_count": 309,
   "metadata": {},
   "outputs": [],
   "source": [
    "for var in cat_features:\n",
    "    data[var].fillna(data[var].mode()[0], inplace=True)"
   ]
  },
  {
   "cell_type": "code",
   "execution_count": 310,
   "metadata": {},
   "outputs": [
    {
     "data": {
      "text/plain": [
       "MasVnrType      0\n",
       "BsmtQual        0\n",
       "BsmtExposure    0\n",
       "FireplaceQu     0\n",
       "GarageCars      0\n",
       "GarageType      0\n",
       "GarageFinish    0\n",
       "MSZoning        0\n",
       "BsmtFullBath    0\n",
       "KitchenQual     0\n",
       "dtype: int64"
      ]
     },
     "execution_count": 310,
     "metadata": {},
     "output_type": "execute_result"
    }
   ],
   "source": [
    "data[cat_features].isnull().sum()"
   ]
  },
  {
   "cell_type": "markdown",
   "metadata": {},
   "source": [
    "#### Rare Label Categorical Encoder "
   ]
  },
  {
   "cell_type": "code",
   "execution_count": 312,
   "metadata": {},
   "outputs": [],
   "source": [
    "#Encoding for rare values : Abover a certain threshold percentage\n",
    "features_to_encode = ['MSZoning', 'Neighborhood', 'RoofStyle', 'MasVnrType','BsmtQual', \n",
    "                      'BsmtExposure', 'HeatingQC', 'CentralAir','KitchenQual', 'FireplaceQu', \n",
    "                      'GarageType', 'GarageFinish','PavedDrive']\n",
    "\n",
    "encoder_dict_ = {}\n",
    "tol=0.05\n",
    "\n",
    "for var in features_to_encode:\n",
    "    # the encoder will learn the most frequent categories\n",
    "    t = pd.Series(data[var].value_counts() / np.float(len(data)))\n",
    "    # frequent labels:\n",
    "    encoder_dict_[var] = list(t[t >= tol].index)\n",
    "    \n",
    "for var in features_to_encode:\n",
    "    data[var] = np.where(data[var].isin(\n",
    "                encoder_dict_[var]), data[var], 'Rare')\n"
   ]
  },
  {
   "cell_type": "markdown",
   "metadata": {},
   "source": [
    "#### Categorical Encoder"
   ]
  },
  {
   "cell_type": "code",
   "execution_count": 313,
   "metadata": {},
   "outputs": [],
   "source": [
    "features_to_encode = ['MSZoning', 'Neighborhood', 'RoofStyle', 'MasVnrType','BsmtQual', \n",
    "                      'BsmtExposure', 'HeatingQC', 'CentralAir','KitchenQual', 'FireplaceQu', \n",
    "                      'GarageType', 'GarageFinish','PavedDrive']"
   ]
  },
  {
   "cell_type": "code",
   "execution_count": 314,
   "metadata": {},
   "outputs": [
    {
     "data": {
      "text/plain": [
       "RL      2269\n",
       "RM       460\n",
       "Rare     190\n",
       "Name: MSZoning, dtype: int64"
      ]
     },
     "execution_count": 314,
     "metadata": {},
     "output_type": "execute_result"
    }
   ],
   "source": [
    "data['MSZoning'].value_counts()"
   ]
  },
  {
   "cell_type": "code",
   "execution_count": 316,
   "metadata": {},
   "outputs": [],
   "source": [
    "encoder_dict_ ={}\n",
    "for var in features_to_encode:\n",
    "    t = data[var].value_counts().sort_values(ascending=True).index  #Sorting on freq, should be done on target, just saving some time here\n",
    "    encoder_dict_[var] = {k:i for i,k in enumerate(t,0)}"
   ]
  },
  {
   "cell_type": "code",
   "execution_count": 319,
   "metadata": {},
   "outputs": [],
   "source": [
    "## Mapping using the encoder dictionary\n",
    "for var in features_to_encode:\n",
    "    data[var] = data[var].map(encoder_dict_[var])\n"
   ]
  },
  {
   "cell_type": "markdown",
   "metadata": {},
   "source": [
    "#### Temporal Variable"
   ]
  },
  {
   "cell_type": "code",
   "execution_count": 323,
   "metadata": {},
   "outputs": [],
   "source": [
    "temporal_features = ['YearRemodAdd']\n",
    "comparison = 'YrSold'\n",
    "\n",
    "data['YearRemodAdd'] = data['YearRemodAdd']-data['YrSold']\n",
    "    \n"
   ]
  },
  {
   "cell_type": "markdown",
   "metadata": {},
   "source": [
    "#### Drop Features"
   ]
  },
  {
   "cell_type": "code",
   "execution_count": 324,
   "metadata": {},
   "outputs": [],
   "source": [
    "drop_features = ['YrSold']\n",
    "data.drop(drop_features, axis=1, inplace=True)"
   ]
  },
  {
   "cell_type": "markdown",
   "metadata": {},
   "source": [
    "#### Log Transformations of Numerical Variable"
   ]
  },
  {
   "cell_type": "code",
   "execution_count": 325,
   "metadata": {},
   "outputs": [],
   "source": [
    "log_features = ['LotFrontage', '1stFlrSF', 'GrLivArea']\n",
    "for var in log_features:\n",
    "    data[var] = np.log(data[var])"
   ]
  },
  {
   "cell_type": "markdown",
   "metadata": {},
   "source": [
    "## Split back to train and test"
   ]
  },
  {
   "cell_type": "code",
   "execution_count": 328,
   "metadata": {},
   "outputs": [],
   "source": [
    "train_clean = data.iloc[:train.shape[0],:]"
   ]
  },
  {
   "cell_type": "code",
   "execution_count": 329,
   "metadata": {},
   "outputs": [
    {
     "data": {
      "text/plain": [
       "(1460, 23)"
      ]
     },
     "execution_count": 329,
     "metadata": {},
     "output_type": "execute_result"
    }
   ],
   "source": [
    "train_clean.shape"
   ]
  },
  {
   "cell_type": "code",
   "execution_count": 330,
   "metadata": {},
   "outputs": [],
   "source": [
    "test_clean = data.iloc[train.shape[0]:,:]"
   ]
  },
  {
   "cell_type": "code",
   "execution_count": 331,
   "metadata": {},
   "outputs": [
    {
     "data": {
      "text/plain": [
       "(1459, 23)"
      ]
     },
     "execution_count": 331,
     "metadata": {},
     "output_type": "execute_result"
    }
   ],
   "source": [
    "test_clean.shape"
   ]
  },
  {
   "cell_type": "markdown",
   "metadata": {},
   "source": [
    "#### Split Train Data"
   ]
  },
  {
   "cell_type": "code",
   "execution_count": 333,
   "metadata": {},
   "outputs": [],
   "source": [
    "X_train, X_test, y_train, y_test = train_test_split(train_clean, y, random_state=42, test_size=0.15)"
   ]
  },
  {
   "cell_type": "code",
   "execution_count": 334,
   "metadata": {},
   "outputs": [],
   "source": [
    "y_train = np.log(y_train)\n",
    "y_test = np.log(y_test)"
   ]
  },
  {
   "cell_type": "markdown",
   "metadata": {},
   "source": [
    "#### Run Model (Lasso)"
   ]
  },
  {
   "cell_type": "code",
   "execution_count": 335,
   "metadata": {},
   "outputs": [],
   "source": [
    "model = Lasso(alpha=0.005, random_state=0)"
   ]
  },
  {
   "cell_type": "code",
   "execution_count": 336,
   "metadata": {},
   "outputs": [
    {
     "data": {
      "text/plain": [
       "Lasso(alpha=0.005, copy_X=True, fit_intercept=True, max_iter=1000,\n",
       "      normalize=False, positive=False, precompute=False, random_state=0,\n",
       "      selection='cyclic', tol=0.0001, warm_start=False)"
      ]
     },
     "execution_count": 336,
     "metadata": {},
     "output_type": "execute_result"
    }
   ],
   "source": [
    "model.fit(X_train,y_train)"
   ]
  },
  {
   "cell_type": "code",
   "execution_count": 340,
   "metadata": {},
   "outputs": [],
   "source": [
    "pred = model.predict(X_test)"
   ]
  },
  {
   "cell_type": "markdown",
   "metadata": {},
   "source": [
    "#### Evaluation\n"
   ]
  },
  {
   "cell_type": "code",
   "execution_count": 345,
   "metadata": {},
   "outputs": [
    {
     "name": "stdout",
     "output_type": "stream",
     "text": [
      "MSE :  0.026143722511705714\n",
      "MAE :  0.11889882181303771\n",
      "RMSE :  0.1616902053672569\n",
      "R-sq :  0.8234201723271777\n"
     ]
    }
   ],
   "source": [
    "\n",
    "#MSE\n",
    "print(\"MSE : \",metrics.mean_squared_error(pred, y_test))\n",
    "#MAE\n",
    "print(\"MAE : \",metrics.mean_absolute_error(pred, y_test))\n",
    "#RMSE\n",
    "print(\"RMSE : \",np.sqrt(metrics.mean_squared_error(pred, y_test)))\n",
    "#R2\n",
    "print(\"R-sq : \",metrics.r2_score(pred, y_test))"
   ]
  },
  {
   "cell_type": "markdown",
   "metadata": {},
   "source": [
    "#### Prediction on the actual Test Data"
   ]
  },
  {
   "cell_type": "code",
   "execution_count": 352,
   "metadata": {},
   "outputs": [],
   "source": [
    "#test_clean is the transformed original test data; x_test is the 15% split from training data, \n",
    "#apologies for similar names\n",
    "pred_test = np.exp(model.predict(test_clean))"
   ]
  },
  {
   "cell_type": "code",
   "execution_count": 354,
   "metadata": {},
   "outputs": [
    {
     "data": {
      "text/plain": [
       "array([134598.29967144, 159588.06090095, 184501.94256249, 185964.4420318 ,\n",
       "       174491.67904766, 186467.67506267, 169938.0737666 , 198920.80602479,\n",
       "       118518.53266662])"
      ]
     },
     "execution_count": 354,
     "metadata": {},
     "output_type": "execute_result"
    }
   ],
   "source": [
    "pred_test[1:10]"
   ]
  },
  {
   "cell_type": "code",
   "execution_count": null,
   "metadata": {},
   "outputs": [],
   "source": []
  }
 ],
 "metadata": {
  "kernelspec": {
   "display_name": "Python 3",
   "language": "python",
   "name": "python3"
  },
  "language_info": {
   "codemirror_mode": {
    "name": "ipython",
    "version": 3
   },
   "file_extension": ".py",
   "mimetype": "text/x-python",
   "name": "python",
   "nbconvert_exporter": "python",
   "pygments_lexer": "ipython3",
   "version": "3.7.4"
  }
 },
 "nbformat": 4,
 "nbformat_minor": 2
}
