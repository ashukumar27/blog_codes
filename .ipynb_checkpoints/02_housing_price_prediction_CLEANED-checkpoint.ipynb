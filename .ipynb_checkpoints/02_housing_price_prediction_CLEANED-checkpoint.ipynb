{
 "cells": [
  {
   "cell_type": "markdown",
   "metadata": {},
   "source": [
    "# Housing price Prediction\n",
    "### Cleaning up the code\n",
    "Data Source: https://www.kaggle.com/c/house-prices-advanced-regression-techniques"
   ]
  },
  {
   "cell_type": "markdown",
   "metadata": {},
   "source": [
    "#### Import Libraries"
   ]
  },
  {
   "cell_type": "code",
   "execution_count": 2,
   "metadata": {},
   "outputs": [],
   "source": [
    "#Import Libraries\n",
    "import pandas as pd\n",
    "import numpy as np\n",
    "from sklearn.model_selection import train_test_split\n",
    "from sklearn.preprocessing import MinMaxScaler\n",
    "from sklearn.linear_model import Lasso\n",
    "from sklearn import metrics"
   ]
  },
  {
   "cell_type": "markdown",
   "metadata": {},
   "source": [
    "#### Config Variables\n",
    "Only once place where all variables are assigned a value to be used later in code.  \n",
    "This will be useful later when you should keep a separate config file for all these variables  \n",
    "\n",
    "All the config variables are mentioned in UPPERCASE"
   ]
  },
  {
   "cell_type": "code",
   "execution_count": 3,
   "metadata": {},
   "outputs": [],
   "source": [
    "DATAPATH = \"../data/HousingPrediction/\"\n",
    "TRAIN_FILE = 'train.csv'\n",
    "TEST_FILE = 'test.csv'\n",
    "\n",
    "TARGET = 'SalePrice'\n",
    "## Features to keep\n",
    "KEEP = ['MSSubClass', 'MSZoning', 'Neighborhood',\n",
    "            'OverallQual', 'OverallCond', 'YearRemodAdd',\n",
    "            'RoofStyle', 'MasVnrType', 'BsmtQual', 'BsmtExposure',\n",
    "            'HeatingQC', 'CentralAir', '1stFlrSF', 'GrLivArea',\n",
    "            'BsmtFullBath', 'KitchenQual', 'Fireplaces', 'FireplaceQu',\n",
    "            'GarageType', 'GarageFinish', 'GarageCars', 'PavedDrive',\n",
    "            'LotFrontage','YrSold'] #Final feature to keep in data\n",
    "\n",
    "NUMERICAL_FEATURES = ['LotFrontage'] #Numerical\n",
    "CATEGORICAL_FEATURES = ['MasVnrType', 'BsmtQual', 'BsmtExposure','FireplaceQu', \n",
    "                'GarageCars','GarageType', 'GarageFinish','MSZoning','BsmtFullBath',\n",
    "                'KitchenQual'] #Categorical\n",
    "\n",
    "FEATURES_TO_ENCODE = ['MSZoning', 'Neighborhood', 'RoofStyle', 'MasVnrType','BsmtQual', \n",
    "                      'BsmtExposure', 'HeatingQC', 'CentralAir','KitchenQual', 'FireplaceQu', \n",
    "                      'GarageType', 'GarageFinish','PavedDrive'] #Features to Encode\n",
    "\n",
    "TEMPORAL_FEATURES = ['YearRemodAdd']\n",
    "TEMPORAL_COMPARISON = 'YrSold'\n",
    "\n",
    "LOG_FEATURES = ['LotFrontage', '1stFlrSF', 'GrLivArea'] #Features for Log Transform\n",
    "\n",
    "DROP_FEATURES = ['YrSold'] #Features to Drop\n"
   ]
  },
  {
   "cell_type": "markdown",
   "metadata": {},
   "source": [
    "#### Read Data"
   ]
  },
  {
   "cell_type": "code",
   "execution_count": 4,
   "metadata": {},
   "outputs": [],
   "source": [
    "train = pd.read_csv(DATAPATH+TRAIN_FILE)\n",
    "test = pd.read_csv(DATAPATH+TEST_FILE)"
   ]
  },
  {
   "cell_type": "code",
   "execution_count": 5,
   "metadata": {},
   "outputs": [],
   "source": [
    "#separating SalePrice in Y\n",
    "y = train[TARGET]\n",
    "train.drop([TARGET], axis=1, inplace=True)"
   ]
  },
  {
   "cell_type": "code",
   "execution_count": 6,
   "metadata": {},
   "outputs": [],
   "source": [
    "#Combine train and test data\n",
    "data = pd.concat([train,test], axis=0)"
   ]
  },
  {
   "cell_type": "code",
   "execution_count": 7,
   "metadata": {},
   "outputs": [],
   "source": [
    "data = data[KEEP].copy()"
   ]
  },
  {
   "cell_type": "markdown",
   "metadata": {},
   "source": [
    "#### Numerical Imputer"
   ]
  },
  {
   "cell_type": "code",
   "execution_count": 8,
   "metadata": {},
   "outputs": [],
   "source": [
    "for var in NUMERICAL_FEATURES:\n",
    "    data[var].fillna(data[var].mode()[0], inplace=True)"
   ]
  },
  {
   "cell_type": "markdown",
   "metadata": {},
   "source": [
    "#### Categorical Imputer"
   ]
  },
  {
   "cell_type": "code",
   "execution_count": 9,
   "metadata": {},
   "outputs": [],
   "source": [
    "for var in CATEGORICAL_FEATURES:\n",
    "    data[var].fillna(data[var].mode()[0], inplace=True)"
   ]
  },
  {
   "cell_type": "markdown",
   "metadata": {},
   "source": [
    "#### Rare Label Categorical Encoder "
   ]
  },
  {
   "cell_type": "code",
   "execution_count": 10,
   "metadata": {},
   "outputs": [],
   "source": [
    "encoder_dict_ = {}\n",
    "tol=0.05\n",
    "\n",
    "for var in FEATURES_TO_ENCODE:\n",
    "    # the encoder will learn the most frequent categories\n",
    "    t = pd.Series(data[var].value_counts() / np.float(len(data)))\n",
    "    # frequent labels:\n",
    "    encoder_dict_[var] = list(t[t >= tol].index)\n",
    "    \n",
    "for var in FEATURES_TO_ENCODE:\n",
    "    data[var] = np.where(data[var].isin(\n",
    "                encoder_dict_[var]), data[var], 'Rare')"
   ]
  },
  {
   "cell_type": "markdown",
   "metadata": {},
   "source": [
    "#### Categorical Encoder"
   ]
  },
  {
   "cell_type": "code",
   "execution_count": 12,
   "metadata": {},
   "outputs": [],
   "source": [
    "encoder_dict_ ={}\n",
    "for var in FEATURES_TO_ENCODE:\n",
    "    t = data[var].value_counts().sort_values(ascending=True).index  #Sorting on freq, should be done on target, just saving some time here\n",
    "    encoder_dict_[var] = {k:i for i,k in enumerate(t,0)}"
   ]
  },
  {
   "cell_type": "code",
   "execution_count": 15,
   "metadata": {},
   "outputs": [],
   "source": [
    "## Mapping using the encoder dictionary\n",
    "for var in FEATURES_TO_ENCODE:\n",
    "    data[var] = data[var].map(encoder_dict_[var])"
   ]
  },
  {
   "cell_type": "markdown",
   "metadata": {},
   "source": [
    "#### Temporal Variables"
   ]
  },
  {
   "cell_type": "code",
   "execution_count": 16,
   "metadata": {},
   "outputs": [],
   "source": [
    "\n",
    "for var in TEMPORAL_FEATURES:\n",
    "    data[var] = data[var]-data[TEMPORAL_COMPARISON]"
   ]
  },
  {
   "cell_type": "markdown",
   "metadata": {},
   "source": [
    "#### Log Transformation of Numerical Features"
   ]
  },
  {
   "cell_type": "code",
   "execution_count": 17,
   "metadata": {},
   "outputs": [],
   "source": [
    "for var in LOG_FEATURES:\n",
    "    data[var] = np.log(data[var])"
   ]
  },
  {
   "cell_type": "markdown",
   "metadata": {},
   "source": [
    "#### Drop Features"
   ]
  },
  {
   "cell_type": "code",
   "execution_count": 18,
   "metadata": {},
   "outputs": [],
   "source": [
    "data.drop(DROP_FEATURES, axis=1, inplace=True)"
   ]
  },
  {
   "cell_type": "markdown",
   "metadata": {},
   "source": [
    "## Split Train and Test"
   ]
  },
  {
   "cell_type": "code",
   "execution_count": 19,
   "metadata": {},
   "outputs": [],
   "source": [
    "train_clean = data.iloc[:train.shape[0],:]\n",
    "test_clean = data.iloc[train.shape[0]:,:]"
   ]
  },
  {
   "cell_type": "markdown",
   "metadata": {},
   "source": [
    "#### Split Train data"
   ]
  },
  {
   "cell_type": "code",
   "execution_count": 20,
   "metadata": {},
   "outputs": [],
   "source": [
    "X_train, X_test, y_train, y_test = train_test_split(train_clean, y, random_state=42, test_size=0.15)"
   ]
  },
  {
   "cell_type": "code",
   "execution_count": 21,
   "metadata": {},
   "outputs": [],
   "source": [
    "y_train = np.log(y_train)\n",
    "y_test = np.log(y_test)"
   ]
  },
  {
   "cell_type": "markdown",
   "metadata": {},
   "source": [
    "#### Run Model"
   ]
  },
  {
   "cell_type": "code",
   "execution_count": 22,
   "metadata": {},
   "outputs": [],
   "source": [
    "model = Lasso(alpha=0.005, random_state=0)"
   ]
  },
  {
   "cell_type": "code",
   "execution_count": 23,
   "metadata": {},
   "outputs": [],
   "source": [
    "model.fit(X_train,y_train)\n",
    "pred = model.predict(X_test)"
   ]
  },
  {
   "cell_type": "markdown",
   "metadata": {},
   "source": [
    "#### Model Evaluation"
   ]
  },
  {
   "cell_type": "code",
   "execution_count": 24,
   "metadata": {},
   "outputs": [
    {
     "name": "stdout",
     "output_type": "stream",
     "text": [
      "MSE :  0.026143722511705714\n",
      "MAE :  0.11889882181303771\n",
      "RMSE :  0.1616902053672569\n",
      "R-sq :  0.8234201723271777\n"
     ]
    }
   ],
   "source": [
    "#MSE\n",
    "print(\"MSE : \",metrics.mean_squared_error(pred, y_test))\n",
    "#MAE\n",
    "print(\"MAE : \",metrics.mean_absolute_error(pred, y_test))\n",
    "#RMSE\n",
    "print(\"RMSE : \",np.sqrt(metrics.mean_squared_error(pred, y_test)))\n",
    "#R2\n",
    "print(\"R-sq : \",metrics.r2_score(pred, y_test))"
   ]
  },
  {
   "cell_type": "markdown",
   "metadata": {},
   "source": [
    "#### Prediction on the actual Train Data"
   ]
  },
  {
   "cell_type": "code",
   "execution_count": 25,
   "metadata": {},
   "outputs": [],
   "source": [
    "#test_clean is the transformed original test data; x_test is the 15% split from training data, \n",
    "#apologies for similar names\n",
    "pred_test = np.exp(model.predict(test_clean))"
   ]
  },
  {
   "cell_type": "code",
   "execution_count": 26,
   "metadata": {},
   "outputs": [
    {
     "data": {
      "text/plain": [
       "array([134598.29967144, 159588.06090095, 184501.94256249, 185964.4420318 ,\n",
       "       174491.67904766, 186467.67506267, 169938.0737666 , 198920.80602479,\n",
       "       118518.53266662])"
      ]
     },
     "execution_count": 26,
     "metadata": {},
     "output_type": "execute_result"
    }
   ],
   "source": [
    "pred_test[1:10]"
   ]
  },
  {
   "cell_type": "code",
   "execution_count": null,
   "metadata": {},
   "outputs": [],
   "source": []
  }
 ],
 "metadata": {
  "kernelspec": {
   "display_name": "Python 3",
   "language": "python",
   "name": "python3"
  },
  "language_info": {
   "codemirror_mode": {
    "name": "ipython",
    "version": 3
   },
   "file_extension": ".py",
   "mimetype": "text/x-python",
   "name": "python",
   "nbconvert_exporter": "python",
   "pygments_lexer": "ipython3",
   "version": "3.7.4"
  }
 },
 "nbformat": 4,
 "nbformat_minor": 2
}
